{
 "cells": [
  {
   "cell_type": "code",
   "execution_count": null,
   "metadata": {},
   "outputs": [],
   "source": [
    "# Generate synthetic energy panel (2 years daily × 500 households)\n",
    "import numpy as np\n",
    "import pandas as pd\n",
    "from datetime import datetime, timedelta"
   ]
  },
  {
   "cell_type": "code",
   "execution_count": null,
   "metadata": {},
   "outputs": [],
   "source": [
    "def treat_effect(event_day):\n",
    "    at = np.maximum(event_day,0)\n",
    "    return -1.0*(at>=0) - 0.02*np.minimum(at,60)"
   ]
  },
  {
   "cell_type": "code",
   "execution_count": null,
   "metadata": {},
   "outputs": [],
   "source": [
    "rng = np.random.default_rng(123)"
   ]
  },
  {
   "cell_type": "code",
   "execution_count": null,
   "metadata": {},
   "outputs": [],
   "source": [
    "N_HOUSEHOLDS = 500\n",
    "T_DAYS = 365*2\n",
    "START_DATE = datetime(2023,1,1)\n",
    "\n",
    "house_id = np.arange(1, N_HOUSEHOLDS+1)\n",
    "region = rng.integers(1,6,size=N_HOUSEHOLDS)\n",
    "dwelling_type = rng.choice(['apartment','detached','semi'], size=N_HOUSEHOLDS, p=[0.4,0.4,0.2])\n",
    "income_class = rng.choice(['low','mid','high'], size=N_HOUSEHOLDS, p=[0.3,0.5,0.2])\n",
    "baseline_kwh = rng.normal(25,5,size=N_HOUSEHOLDS)\n",
    "efficiency = rng.beta(2,5,size=N_HOUSEHOLDS)\n",
    "house_fe = rng.normal(0,2,size=N_HOUSEHOLDS)\n",
    "\n",
    "treated_flag = rng.random(N_HOUSEHOLDS) < 0.5\n",
    "adopt_day = np.full(N_HOUSEHOLDS, np.inf)\n",
    "adopt_day[treated_flag] = rng.integers(30, T_DAYS-30, treated_flag.sum())"
   ]
  },
  {
   "cell_type": "code",
   "execution_count": null,
   "metadata": {},
   "outputs": [
    {
     "name": "stdout",
     "output_type": "stream",
     "text": [
      "   house_id  t       date  region dwelling_type income_class  efficiency  \\\n",
      "0         1  0 2023-01-01       1      detached         high    0.377498   \n",
      "1         2  0 2023-01-01       4      detached         high    0.112848   \n",
      "2         3  0 2023-01-01       3      detached          low    0.138131   \n",
      "3         4  0 2023-01-01       1          semi          mid    0.093936   \n",
      "4         5  0 2023-01-01       5      detached          low    0.280438   \n",
      "\n",
      "   treatment  adopt_day  temperature  price_index  is_weekend        kwh  \\\n",
      "0        0.0      397.0    21.095264        100.0           1  47.234640   \n",
      "1        0.0       -1.0    21.095264        100.0           1  49.606964   \n",
      "2        0.0      250.0    21.095264        100.0           1  41.784376   \n",
      "3        0.0      338.0    21.095264        100.0           1  51.684636   \n",
      "4        0.0       -1.0    21.095264        100.0           1        NaN   \n",
      "\n",
      "   high_usage  post  event_time  \n",
      "0           1     0      -397.0  \n",
      "1           1     0         NaN  \n",
      "2           1     0      -250.0  \n",
      "3           1     0      -338.0  \n",
      "4           1     0         NaN  \n"
     ]
    }
   ],
   "source": [
    "dates = [START_DATE + timedelta(days=t) for t in range(T_DAYS)]\n",
    "day_idx = np.arange(T_DAYS)\n",
    "temp = 20 + 10*np.sin(2*np.pi*day_idx/365) + rng.normal(0,2,size=T_DAYS)\n",
    "price_index = 100 + 0.05*day_idx + 5*np.sin(2*np.pi*day_idx/180)\n",
    "is_weekend = np.array([d.weekday()>=5 for d in dates], dtype=int)\n",
    "\n",
    "rows=[]\n",
    "cons_prev = rng.normal(25,5,size=N_HOUSEHOLDS)\n",
    "for t in range(T_DAYS):\n",
    "    treat_t = (t >= adopt_day).astype(float)\n",
    "    event_t = t - adopt_day\n",
    "    tau = treat_effect(event_t)\n",
    "    eps = rng.normal(0,2,size=N_HOUSEHOLDS)\n",
    "    cons = baseline_kwh + house_fe \\\n",
    "           + 0.5*temp[t] + (-0.01)*price_index[t] \\\n",
    "           - 2*efficiency*temp[t]/30.0 \\\n",
    "           -0.5*is_weekend[t] \\\n",
    "           + tau + 0.6*cons_prev + eps\n",
    "    prob_high = 1/(1+np.exp(-(cons-30)/5))\n",
    "    high_usage = rng.binomial(1, prob_high)\n",
    "    mask = rng.random(N_HOUSEHOLDS)<0.02\n",
    "    cons[mask] = np.nan\n",
    "    for i in range(N_HOUSEHOLDS):\n",
    "        rows.append((house_id[i],t,dates[t],region[i],dwelling_type[i],income_class[i],efficiency[i],\n",
    "                     treat_t[i],adopt_day[i] if np.isfinite(adopt_day[i]) else -1,\n",
    "                     temp[t],price_index[t],is_weekend[t],cons[i],high_usage[i]))\n",
    "    cons_prev = np.nan_to_num(cons, nan=np.nanmean(cons_prev))\n",
    "\n",
    "cols = [\"house_id\",\"t\",\"date\",\"region\",\"dwelling_type\",\"income_class\",\"efficiency\",\n",
    "        \"treatment\",\"adopt_day\",\"temperature\",\"price_index\",\"is_weekend\",\n",
    "        \"kwh\",\"high_usage\"]\n",
    "\n",
    "energy_df = pd.DataFrame(rows,columns=cols)\n",
    "energy_df[\"post\"] = (energy_df[\"t\"] >= energy_df[\"adopt_day\"]).astype(int)\n",
    "energy_df.loc[energy_df[\"adopt_day\"]<0,\"post\"]=0\n",
    "energy_df[\"event_time\"] = energy_df[\"t\"]-energy_df[\"adopt_day\"]\n",
    "energy_df.loc[energy_df[\"adopt_day\"]<0,\"event_time\"]=np.nan\n",
    "\n",
    "# Ready to use\n",
    "print(energy_df.head())\n"
   ]
  },
  {
   "cell_type": "code",
   "execution_count": 3,
   "metadata": {},
   "outputs": [],
   "source": [
    "energy_df.to_csv(\"energy_data_panel.csv\", index=False)"
   ]
  }
 ],
 "metadata": {
  "kernelspec": {
   "display_name": "Python (data-trans)",
   "language": "python",
   "name": "data-trans"
  },
  "language_info": {
   "codemirror_mode": {
    "name": "ipython",
    "version": 3
   },
   "file_extension": ".py",
   "mimetype": "text/x-python",
   "name": "python",
   "nbconvert_exporter": "python",
   "pygments_lexer": "ipython3",
   "version": "3.12.11"
  }
 },
 "nbformat": 4,
 "nbformat_minor": 2
}
